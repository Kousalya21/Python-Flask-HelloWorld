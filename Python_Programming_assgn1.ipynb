{
  "nbformat": 4,
  "nbformat_minor": 0,
  "metadata": {
    "colab": {
      "name": "Homework1_Python.ipynb",
      "provenance": [],
      "authorship_tag": "ABX9TyOJOmY66Zba++6kf+SrZjNk",
      "include_colab_link": true
    },
    "kernelspec": {
      "name": "python3",
      "display_name": "Python 3"
    }
  },
  "cells": [
    {
      "cell_type": "markdown",
      "metadata": {
        "id": "view-in-github",
        "colab_type": "text"
      },
      "source": [
        "<a href=\"https://colab.research.google.com/github/Kousalya21/Python-Flask-HelloWorld/blob/master/Python_Programming_assgn1.ipynb\" target=\"_parent\"><img src=\"https://colab.research.google.com/assets/colab-badge.svg\" alt=\"Open In Colab\"/></a>"
      ]
    },
    {
      "cell_type": "code",
      "metadata": {
        "id": "T3UT_FkrktXU",
        "colab_type": "code",
        "colab": {}
      },
      "source": [
        "#1\n",
        "def calculateInterest(p,t,r): \n",
        "    print('Principal amount is:', p) \n",
        "    print('Rate of interest is:',r) \n",
        "    print('No. of years:', t) \n",
        "         \n",
        "    SI = (p * t * r)/100\n",
        "      \n",
        "    print('The Simple Interest is', SI) \n",
        "    return SI"
      ],
      "execution_count": 33,
      "outputs": []
    },
    {
      "cell_type": "code",
      "metadata": {
        "id": "AT04GUEFny_R",
        "colab_type": "code",
        "colab": {
          "base_uri": "https://localhost:8080/",
          "height": 101
        },
        "outputId": "fd8a9eb0-40fb-407a-bba1-fd87c3852804"
      },
      "source": [
        "calculateInterest(500, 9.00, 5) "
      ],
      "execution_count": 9,
      "outputs": [
        {
          "output_type": "stream",
          "text": [
            "The principal amount is: 500\n",
            "The rate of interest is: 5\n",
            "No. of years: 9.0\n",
            "The Simple Interest is 225.0\n"
          ],
          "name": "stdout"
        },
        {
          "output_type": "execute_result",
          "data": {
            "text/plain": [
              "225.0"
            ]
          },
          "metadata": {
            "tags": []
          },
          "execution_count": 9
        }
      ]
    },
    {
      "cell_type": "code",
      "metadata": {
        "id": "N-yw1F_on2An",
        "colab_type": "code",
        "colab": {
          "base_uri": "https://localhost:8080/",
          "height": 101
        },
        "outputId": "ea3d4686-c33a-4edb-ad31-3fd9a8dfc72c"
      },
      "source": [
        "#2\n",
        "n = int(input(\"Enter n:\"))\n",
        "i = 0\n",
        "for i in range(4):\n",
        "    print(n*(i))"
      ],
      "execution_count": 34,
      "outputs": [
        {
          "output_type": "stream",
          "text": [
            "Enter n:5\n",
            "0\n",
            "5\n",
            "10\n",
            "15\n"
          ],
          "name": "stdout"
        }
      ]
    },
    {
      "cell_type": "code",
      "metadata": {
        "id": "D8bjpDGKn2FA",
        "colab_type": "code",
        "colab": {}
      },
      "source": [
        "#3\n",
        "def leap(year):\n",
        "    if (( year%400 == 0)or (( year%4 == 0 ) and ( year%100 != 0))):\n",
        "        print(\"True\")\n",
        "    else:\n",
        "        print(\"False\")    "
      ],
      "execution_count": 35,
      "outputs": []
    },
    {
      "cell_type": "code",
      "metadata": {
        "id": "eUr7dEySobJ_",
        "colab_type": "code",
        "colab": {
          "base_uri": "https://localhost:8080/",
          "height": 34
        },
        "outputId": "e6a63b4d-a20f-4032-aad8-9d72a95b8eb0"
      },
      "source": [
        "leap(2000)"
      ],
      "execution_count": 36,
      "outputs": [
        {
          "output_type": "stream",
          "text": [
            "True\n"
          ],
          "name": "stdout"
        }
      ]
    },
    {
      "cell_type": "code",
      "metadata": {
        "id": "QWBqyAYtoeJu",
        "colab_type": "code",
        "colab": {}
      },
      "source": [
        "#4\n",
        "def statement(bank):\n",
        "    deposits = 0\n",
        "    withdrawals = 0\n",
        "    for transaction in bank:\n",
        "        if transaction > 0:\n",
        "            deposits += transaction\n",
        "        else:\n",
        "            withdrawals += transaction\n",
        "    return[deposits, withdrawals]"
      ],
      "execution_count": 37,
      "outputs": []
    },
    {
      "cell_type": "code",
      "metadata": {
        "id": "R9FaVNEtogCj",
        "colab_type": "code",
        "colab": {
          "base_uri": "https://localhost:8080/",
          "height": 34
        },
        "outputId": "00dc9cd1-c081-4b0b-ecb9-02b30eb94b2e"
      },
      "source": [
        "statement([30.95, -15.67, 45.56, -55.00, 43.78])"
      ],
      "execution_count": 38,
      "outputs": [
        {
          "output_type": "execute_result",
          "data": {
            "text/plain": [
              "[120.29, -70.67]"
            ]
          },
          "metadata": {
            "tags": []
          },
          "execution_count": 38
        }
      ]
    },
    {
      "cell_type": "code",
      "metadata": {
        "id": "mts5z1yfo4zE",
        "colab_type": "code",
        "colab": {
          "base_uri": "https://localhost:8080/",
          "height": 134
        },
        "outputId": "9a94dc48-8aba-40c0-c6f9-5d3e125b4065"
      },
      "source": [
        "#5\n",
        "x1 = int(input(\"Enter x1: \"))\n",
        "y1 = int(input(\"Enter y1: \"))\n",
        "x2 = int(input(\"Enter x2: \"))\n",
        "y2 = int(input(\"Enter y2: \"))\n",
        "x = int(input(\"Enter x: \"))\n",
        "y = int(input(\"Enter y: \"))\n",
        "if (x >= x1 and x <= x2) and (y >= y1 and y <= y2):\n",
        "    print(True)\n",
        "else:\n",
        "    print(False)\n"
      ],
      "execution_count": 14,
      "outputs": [
        {
          "output_type": "stream",
          "text": [
            "Enter x1: 1\n",
            "Enter y1: 3\n",
            "Enter x2: 10\n",
            "Enter y2: 6\n",
            "Enter x: 4\n",
            "Enter y: 2\n",
            "False\n"
          ],
          "name": "stdout"
        }
      ]
    },
    {
      "cell_type": "code",
      "metadata": {
        "id": "JC_x-2FhpLCF",
        "colab_type": "code",
        "colab": {}
      },
      "source": [
        "#6\n",
        "def password_check(newpassword, oldpassword):\n",
        "  if len(newpassword) >= 6 and newpassword !=oldpassword:\n",
        "    return True\n",
        "  return False"
      ],
      "execution_count": 15,
      "outputs": []
    },
    {
      "cell_type": "code",
      "metadata": {
        "id": "d7ai7AZepjJx",
        "colab_type": "code",
        "colab": {
          "base_uri": "https://localhost:8080/",
          "height": 34
        },
        "outputId": "ea7c3df0-ac6c-410e-9e3d-aec63cdd2b04"
      },
      "source": [
        "password_check('E10sf', 'E10.s2ff')"
      ],
      "execution_count": 16,
      "outputs": [
        {
          "output_type": "execute_result",
          "data": {
            "text/plain": [
              "False"
            ]
          },
          "metadata": {
            "tags": []
          },
          "execution_count": 16
        }
      ]
    },
    {
      "cell_type": "code",
      "metadata": {
        "id": "eXImbJ0wpkQx",
        "colab_type": "code",
        "colab": {
          "base_uri": "https://localhost:8080/",
          "height": 34
        },
        "outputId": "0dba8e3a-a505-4e2c-86ad-456333413a46"
      },
      "source": [
        "password_check('Python', 'Kousalya')"
      ],
      "execution_count": 18,
      "outputs": [
        {
          "output_type": "execute_result",
          "data": {
            "text/plain": [
              "True"
            ]
          },
          "metadata": {
            "tags": []
          },
          "execution_count": 18
        }
      ]
    },
    {
      "cell_type": "code",
      "metadata": {
        "id": "YVnTkl58pvTv",
        "colab_type": "code",
        "colab": {
          "base_uri": "https://localhost:8080/",
          "height": 84
        },
        "outputId": "e1f7826d-bd41-449c-80e2-421a557a806d"
      },
      "source": [
        "#7\n",
        "string1 = input(\"Enter string 1: \")\n",
        "string2 = input(\"Enter string 2: \")\n",
        "string3 = input(\"Enter string 3: \")\n",
        "oneandtwo = string1 + string2\n",
        "if oneandtwo == string3:\n",
        "  print(\"They are equal\")\n",
        "else:\n",
        "  print(\"They are not equal\")"
      ],
      "execution_count": 20,
      "outputs": [
        {
          "output_type": "stream",
          "text": [
            "Enter string 1: ko\n",
            "Enter string 2: ko\n",
            "Enter string 3: koko\n",
            "They are equal\n"
          ],
          "name": "stdout"
        }
      ]
    },
    {
      "cell_type": "code",
      "metadata": {
        "id": "uJmHWsYFqtoK",
        "colab_type": "code",
        "colab": {}
      },
      "source": [
        "#8\n",
        "def interest(interest_rate):\n",
        "  investment_amount = 100.00 \n",
        "  target_amount = 2 * investment_amount\n",
        "  years = 0\n",
        "  while investment_amount < target_amount:\n",
        "    investment_amount += (investment_amount * interest_rate)\n",
        "    years += 1\n",
        "  return years"
      ],
      "execution_count": 22,
      "outputs": []
    },
    {
      "cell_type": "code",
      "metadata": {
        "id": "bvOjCnsRscvQ",
        "colab_type": "code",
        "colab": {
          "base_uri": "https://localhost:8080/",
          "height": 34
        },
        "outputId": "d152bb45-53cc-45ba-d572-4b16b22e8fc6"
      },
      "source": [
        "interest(0.07)"
      ],
      "execution_count": 23,
      "outputs": [
        {
          "output_type": "execute_result",
          "data": {
            "text/plain": [
              "11"
            ]
          },
          "metadata": {
            "tags": []
          },
          "execution_count": 23
        }
      ]
    },
    {
      "cell_type": "code",
      "metadata": {
        "id": "9qFlCg4OshIh",
        "colab_type": "code",
        "colab": {}
      },
      "source": [
        "#9\n",
        "def approxPIsquared(error):\n",
        "  prev = 0\n",
        "  curr = 8\n",
        "  denominator = 1\n",
        "  while (curr - prev) > error:\n",
        "    prev = curr\n",
        "    denominator += 2\n",
        "    curr = curr + (8 / (denominator ** 2))\n",
        "  return curr"
      ],
      "execution_count": 27,
      "outputs": []
    },
    {
      "cell_type": "code",
      "metadata": {
        "id": "eHItVDm5tDUX",
        "colab_type": "code",
        "colab": {
          "base_uri": "https://localhost:8080/",
          "height": 34
        },
        "outputId": "8f4262ce-e9a0-4b24-c46f-00a92f568937"
      },
      "source": [
        " approxPIsquared(0.0001)"
      ],
      "execution_count": 28,
      "outputs": [
        {
          "output_type": "execute_result",
          "data": {
            "text/plain": [
              "9.855519952254232"
            ]
          },
          "metadata": {
            "tags": []
          },
          "execution_count": 28
        }
      ]
    },
    {
      "cell_type": "code",
      "metadata": {
        "id": "eSS8aG9jtbqR",
        "colab_type": "code",
        "colab": {
          "base_uri": "https://localhost:8080/",
          "height": 34
        },
        "outputId": "5b09c88d-8e7d-4d96-d449-01e10e7cda86"
      },
      "source": [
        "approxPIsquared(0.00000001)"
      ],
      "execution_count": 29,
      "outputs": [
        {
          "output_type": "execute_result",
          "data": {
            "text/plain": [
              "9.869462988376474"
            ]
          },
          "metadata": {
            "tags": []
          },
          "execution_count": 29
        }
      ]
    },
    {
      "cell_type": "code",
      "metadata": {
        "id": "8aLeJjpFtlEA",
        "colab_type": "code",
        "colab": {
          "base_uri": "https://localhost:8080/",
          "height": 67
        },
        "outputId": "e7fd681f-29e0-4d5d-8951-6965b9525d92"
      },
      "source": [
        "#10\n",
        "import math\n",
        "x = float(input(\"Enter x: \"))\n",
        "y = float(input(\"Enter y: \"))\n",
        "distance = math.sqrt(x ** 2 + y ** 2)\n",
        "if distance <= 8:\n",
        "  print(\"It is in !!!!!\")\n",
        "else:\n",
        "  print(\"It is out !!!!\")"
      ],
      "execution_count": 32,
      "outputs": [
        {
          "output_type": "stream",
          "text": [
            "Enter x: 5\n",
            "Enter y: 2.5\n",
            "It is in !!!!!\n"
          ],
          "name": "stdout"
        }
      ]
    }
  ]
}